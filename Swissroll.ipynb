{
 "cells": [
  {
   "cell_type": "markdown",
   "id": "d5750534",
   "metadata": {},
   "source": [
    "# Flow Modell für zweidimensionale Datensätze"
   ]
  },
  {
   "cell_type": "code",
   "execution_count": null,
   "id": "2461468f",
   "metadata": {
    "ExecuteTime": {
     "end_time": "2022-01-28T14:22:02.862291Z",
     "start_time": "2022-01-28T14:21:59.678518Z"
    }
   },
   "outputs": [],
   "source": [
    "import numpy as np\n",
    "import time\n",
    "import matplotlib.pyplot as plt\n",
    "import tensorflow as tf\n",
    "import tensorflow_probability as tfp\n",
    "import os\n",
    "import random\n",
    "from PIL import Image\n",
    "\n",
    "#Kleine Module von Lukas Rinder https://github.com/LukasRinder/normalizing-flows:\n",
    "from LukasRinder.LukasRinder import Made\n",
    "from LukasRinder.LukasRinder import train_density_estimation, nll\n",
    "from LukasRinder.LukasRinder import plot_heatmap_2d\n",
    "\n",
    "from sklearn import datasets\n",
    "\n",
    "tfd = tfp.distributions\n",
    "tfb = tfp.bijectors\n",
    "\n",
    "tf.random.set_seed(1234)"
   ]
  },
  {
   "cell_type": "markdown",
   "id": "80f718fc",
   "metadata": {},
   "source": [
    "### Nicht alle Versionen von Tensorflow-Probability sind mit alles Python Versionen kompatibel. Tfp steckt noch in der Beta-Version."
   ]
  },
  {
   "cell_type": "code",
   "execution_count": null,
   "id": "eb59b8b1",
   "metadata": {
    "ExecuteTime": {
     "end_time": "2022-01-28T14:22:02.878253Z",
     "start_time": "2022-01-28T14:22:02.864290Z"
    }
   },
   "outputs": [],
   "source": [
    "print(np.__version__, tf.__version__, tfp.__version__, sep=\"\\n\")"
   ]
  },
  {
   "cell_type": "markdown",
   "id": "25d1405f",
   "metadata": {},
   "source": [
    "### Datensatz mit sklearn.datasets laden, darstellen und Batches initisalisieren."
   ]
  },
  {
   "cell_type": "code",
   "execution_count": null,
   "id": "37079dd7",
   "metadata": {
    "ExecuteTime": {
     "end_time": "2022-01-28T14:22:02.909792Z",
     "start_time": "2022-01-28T14:22:02.880247Z"
    }
   },
   "outputs": [],
   "source": [
    "data = (np.array(datasets.make_swiss_roll(60000, noise=1)[0])).astype(\"float32\")[:, [0, 2]]"
   ]
  },
  {
   "cell_type": "code",
   "execution_count": null,
   "id": "900049c8",
   "metadata": {
    "ExecuteTime": {
     "end_time": "2022-01-28T14:22:03.050445Z",
     "start_time": "2022-01-28T14:22:02.912787Z"
    }
   },
   "outputs": [],
   "source": [
    "fig = plt.figure(figsize=(4, 4), dpi=80)\n",
    "plt.scatter(data[:3000,0], data[:3000,1], s=1)"
   ]
  },
  {
   "cell_type": "code",
   "execution_count": null,
   "id": "5c3d0704",
   "metadata": {
    "ExecuteTime": {
     "end_time": "2022-01-28T14:22:03.066416Z",
     "start_time": "2022-01-28T14:22:03.052413Z"
    }
   },
   "outputs": [],
   "source": [
    "batch_s = 128\n",
    "\n",
    "x_train = tf.cast(data[:50000], tf.float32)\n",
    "x_val = tf.cast(data[50000:], tf.float32)\n",
    "batched_train = tf.data.Dataset.from_tensor_slices(x_train).shuffle(1000).batch(batch_s)\n",
    "batched_val = tf.data.Dataset.from_tensor_slices(x_val).batch(batch_s)"
   ]
  },
  {
   "cell_type": "markdown",
   "id": "fff1f2c5",
   "metadata": {},
   "source": [
    "### Funktion, die ein MAF bzw. IAF Modell erzeugt.\n",
    "#### Die Permutation ist hier fest gewählt und vertauscht die Einträge. Die einzelnen Transformationen werden mit tfb.Chain verkettet. Hier wird das in umgekehrter Reihenfolge getan, sodass die zuerst implementierte Transformation T1 entspricht (auf dem latenten Raum operiert)."
   ]
  },
  {
   "cell_type": "code",
   "execution_count": null,
   "id": "10cdfad4",
   "metadata": {
    "ExecuteTime": {
     "end_time": "2022-01-28T14:22:03.082333Z",
     "start_time": "2022-01-28T14:22:03.068371Z"
    }
   },
   "outputs": [],
   "source": [
    "def AutoregressiveFlow_2D(layers, hidden_shape=[64, 64], activation=\"relu\", inverse=False):\n",
    "    base_dist = tfd.MultivariateNormalDiag(loc=tf.zeros(shape=[2], dtype=tf.float32))\n",
    "    bijectors = []\n",
    "    params=0\n",
    "    if inverse:\n",
    "        for i in range(layers):\n",
    "            bijectors.append(tfb.Invert(tfb.MaskedAutoregressiveFlow(\n",
    "                shift_and_log_scale_fn = Made(params=2, hidden_units=hidden_shape, activation=activation))))\n",
    "            bijectors.append(tfb.Permute(permutation=[1, 0]))\n",
    "        bijector = tfb.Chain(bijectors=list(reversed(bijectors)))\n",
    "    else:\n",
    "        for i in range(layers):\n",
    "            bijectors.append(tfb.MaskedAutoregressiveFlow(\n",
    "                shift_and_log_scale_fn = Made(params=2, hidden_units=hidden_shape, activation=activation)))\n",
    "            bijectors.append(tfb.Permute(permutation=[1, 0]))\n",
    "        bijector = tfb.Chain(bijectors=list(reversed(bijectors)))\n",
    "\n",
    "    masked_auto_flow = tfd.TransformedDistribution(distribution=base_dist, bijector=bijector)\n",
    "    masked_auto_flow.log_prob(base_dist.sample())\n",
    "    for theta in masked_auto_flow.trainable_variables:\n",
    "        params += np.prod(theta.shape)\n",
    "    print(\"trainable parameters:\", params)\n",
    "    return masked_auto_flow, base_dist, bijectors"
   ]
  },
  {
   "cell_type": "markdown",
   "id": "f626e91a",
   "metadata": {},
   "source": [
    "### Parameter festlegen und einen Namen für die Checkpoints festlegen."
   ]
  },
  {
   "cell_type": "code",
   "execution_count": null,
   "id": "0c1ed32a",
   "metadata": {
    "ExecuteTime": {
     "end_time": "2022-01-28T14:22:03.098398Z",
     "start_time": "2022-01-28T14:22:03.084344Z"
    }
   },
   "outputs": [],
   "source": [
    "layers = 20\n",
    "base_lr = 1e-3\n",
    "end_lr = 1e-4\n",
    "epochs = 200\n",
    "dataset = \"swiss\"\n",
    "trainsize = 50000"
   ]
  },
  {
   "cell_type": "markdown",
   "id": "5b1e3267",
   "metadata": {},
   "source": [
    "### Modell initialisieren. In diesem Stadium entspricht MAF der Startverteilung bzw. full_bijector der Identitätsabbildung."
   ]
  },
  {
   "cell_type": "code",
   "execution_count": null,
   "id": "622781fc",
   "metadata": {
    "ExecuteTime": {
     "end_time": "2022-01-28T14:22:03.336022Z",
     "start_time": "2022-01-28T14:22:03.100354Z"
    }
   },
   "outputs": [],
   "source": [
    "MAF, base_dist, list_of_bijectors = AutoregressiveFlow_2D(layers, inverse=False)"
   ]
  },
  {
   "cell_type": "code",
   "execution_count": null,
   "id": "7cff341f",
   "metadata": {
    "ExecuteTime": {
     "end_time": "2022-01-28T14:22:03.351936Z",
     "start_time": "2022-01-28T14:22:03.337974Z"
    }
   },
   "outputs": [],
   "source": [
    "learning_rate = tf.keras.optimizers.schedules.PolynomialDecay(base_lr, epochs, end_lr, power=0.5)\n",
    "opt = tf.keras.optimizers.Adam(learning_rate=learning_rate)"
   ]
  },
  {
   "cell_type": "markdown",
   "id": "294484eb",
   "metadata": {},
   "source": [
    "### Checkpoints initialisieren."
   ]
  },
  {
   "cell_type": "code",
   "execution_count": null,
   "id": "a64eae5f",
   "metadata": {
    "ExecuteTime": {
     "end_time": "2022-01-28T14:22:03.367931Z",
     "start_time": "2022-01-28T14:22:03.356924Z"
    }
   },
   "outputs": [],
   "source": [
    "ckpt_dir = f\"{dataset}/tmp_{layers}\"\n",
    "ckpt_prefix = os.path.join(ckpt_dir, \"ckpt\")\n",
    "\n",
    "ckpt = tf.train.Checkpoint(optimizer=opt, model=MAF)"
   ]
  },
  {
   "cell_type": "markdown",
   "id": "0a0dbbc3",
   "metadata": {},
   "source": [
    "### Funktion, die ein Modell trainiert.\n",
    "#### Dabei werden Trainings- und Validierungsdaten verwendet, um Overfitting festzustellen. Nach dem Durchlaufen aller Epochen, wird die benötigte Zeit ausgegeben. Zudem kann gewählt werden, ob die Dichte während des Trainings visualisiert werden soll."
   ]
  },
  {
   "cell_type": "code",
   "execution_count": null,
   "id": "716ec971",
   "metadata": {
    "ExecuteTime": {
     "end_time": "2022-01-28T14:22:03.383863Z",
     "start_time": "2022-01-28T14:22:03.370886Z"
    }
   },
   "outputs": [],
   "source": [
    "def TrainFlow(flow, batched_train, batched_val, epochs, train_size, optimizer, checkpoint, checkpoint_pref, heat_name=None):\n",
    "\n",
    "    t_losses, v_losses = [], []\n",
    "    t_start = time.time()\n",
    "    \n",
    "    for i in range(epochs):\n",
    "        batched_train.shuffle(buffer_size=train_size, reshuffle_each_iteration=True)\n",
    "        batch_t_losses = []\n",
    "        for batch in batched_train:\n",
    "            batch_loss = train_density_estimation(flow, optimizer, batch)\n",
    "            batch_t_losses.append(batch_loss)\n",
    "        t_loss = tf.reduce_mean(batch_t_losses)\n",
    "\n",
    "        batch_v_losses = []\n",
    "        for batch in batched_val:\n",
    "            batch_loss = nll(flow, batch)\n",
    "            batch_v_losses.append(batch_loss)\n",
    "        v_loss = tf.reduce_mean(batch_v_losses)\n",
    "\n",
    "        t_losses.append(t_loss)\n",
    "        v_losses.append(v_loss)\n",
    "        print(f\"Epoch {i+1}: train loss: {t_loss}, val loss: {v_loss}\")\n",
    "        \n",
    "        if i == 0:\n",
    "            min_v_loss = v_loss\n",
    "            best_epoch = 0\n",
    "        if v_loss < min_v_loss:\n",
    "            min_v_loss = v_loss\n",
    "            best_epoch = i\n",
    "            checkpoint.write(file_prefix=checkpoint_pref)\n",
    "            \n",
    "        if heat_name:        \n",
    "            if (i < 12) or (i % 30 == 0):\n",
    "                plot_heatmap_2d(flow, -13.0, 17.0, -13.0, 17.0, mesh_count=500, name=heat_name + str(i+1))\n",
    "                \n",
    "    print(\"train time:\", time.time() - t_start)\n",
    "    \n",
    "    return t_losses, v_losses"
   ]
  },
  {
   "cell_type": "code",
   "execution_count": null,
   "id": "9b65bea9",
   "metadata": {
    "ExecuteTime": {
     "end_time": "2022-01-28T14:22:10.294842Z",
     "start_time": "2022-01-28T14:22:03.385845Z"
    },
    "scrolled": true
   },
   "outputs": [],
   "source": [
    "train_losses, val_losses = TrainFlow(MAF, batched_train, batched_val, \n",
    "                                     epochs, trainsize, opt, ckpt, ckpt_prefix, heat_name=\"test\")"
   ]
  },
  {
   "cell_type": "markdown",
   "id": "e2810855",
   "metadata": {},
   "source": [
    "### Plot der Verluste während des Trainings."
   ]
  },
  {
   "cell_type": "code",
   "execution_count": null,
   "id": "b234ae13",
   "metadata": {
    "ExecuteTime": {
     "end_time": "2022-01-28T14:22:10.438739Z",
     "start_time": "2022-01-28T14:22:10.296868Z"
    }
   },
   "outputs": [],
   "source": [
    "plt.plot(range(len(train_losses)), train_losses, label=\"train loss\")\n",
    "plt.plot(range(len(val_losses)), val_losses, label=\"val loss\")\n",
    "plt.legend()"
   ]
  },
  {
   "cell_type": "markdown",
   "id": "815cfdb3",
   "metadata": {},
   "source": [
    "### Laden des Stadiums des Modelles mit geringstem Verlust auf den Validierungsdaten."
   ]
  },
  {
   "cell_type": "code",
   "execution_count": null,
   "id": "800c7bd1",
   "metadata": {
    "ExecuteTime": {
     "end_time": "2022-01-28T14:22:10.581677Z",
     "start_time": "2022-01-28T14:22:10.440763Z"
    }
   },
   "outputs": [],
   "source": [
    "ckpt.restore(ckpt_prefix)"
   ]
  },
  {
   "cell_type": "markdown",
   "id": "fa937872",
   "metadata": {},
   "source": [
    "### Neue Daten generieren."
   ]
  },
  {
   "cell_type": "code",
   "execution_count": null,
   "id": "7582feaf",
   "metadata": {
    "ExecuteTime": {
     "end_time": "2022-01-28T14:22:10.802532Z",
     "start_time": "2022-01-28T14:22:10.583643Z"
    },
    "scrolled": true
   },
   "outputs": [],
   "source": [
    "samples = MAF.sample(5000).numpy()\n",
    "fig = plt.figure(figsize=(4, 4), dpi=80)\n",
    "plt.scatter(samples[:,0], samples[:,1], s=1)\n",
    "plt.savefig(f\"{layers}_layers_{epochs}_epochs_{dataset}.png\")"
   ]
  },
  {
   "cell_type": "markdown",
   "id": "a21c6022",
   "metadata": {},
   "source": [
    "### Zwei Funktionen, die zusammen die gesammte Transformation Schrittweise darstellen. \n",
    "#### Immer zwei aufeinander folgende Schritte sind von gleicher Orientierung, dann wird an der Winkelhalbierenden gespiegelt (Permutation)."
   ]
  },
  {
   "cell_type": "code",
   "execution_count": null,
   "id": "6b757e0d",
   "metadata": {
    "ExecuteTime": {
     "end_time": "2022-01-28T14:22:10.818252Z",
     "start_time": "2022-01-28T14:22:10.804252Z"
    }
   },
   "outputs": [],
   "source": [
    "def PlotStep(points, save=False, name=None):\n",
    "    points = points.numpy()\n",
    "    fig = plt.figure(figsize=(4, 4), dpi=80)\n",
    "    plt.scatter(points[:,0], points[:,1], s=1)\n",
    "    if save:\n",
    "        plt.savefig(name+\".png\")"
   ]
  },
  {
   "cell_type": "code",
   "execution_count": null,
   "id": "9b2f379e",
   "metadata": {
    "ExecuteTime": {
     "end_time": "2022-01-28T14:22:10.834175Z",
     "start_time": "2022-01-28T14:22:10.820209Z"
    }
   },
   "outputs": [],
   "source": [
    "def FlowSteps(distribution, bijectors_list, samples, steps=\"all\", save=False, name=\"empty\"):\n",
    "    points = distribution.sample(samples)\n",
    "    PlotStep(points, save=save, name=name+\"0\")\n",
    "    last = True\n",
    "\n",
    "    if steps == \"all\":\n",
    "        for bijector in bijectors_list:\n",
    "            points = bijector.forward(points)\n",
    "            PlotStep(points)\n",
    "            last = False\n",
    "\n",
    "    if steps != \"all\":\n",
    "        stepsize = len(bijectors_list) // steps\n",
    "        points = bijectors_list[0].forward(points)\n",
    "        PlotStep(points)\n",
    "        counter = 1\n",
    "        while counter < (len(bijectors_list) - stepsize + 1):\n",
    "            for i in range(stepsize):\n",
    "                points = bijectors_list[counter+i].forward(points)\n",
    "            PlotStep(points, save=save, name=name+str(counter))\n",
    "            counter += stepsize\n",
    "            if counter == len(bijectors_list) - 1:\n",
    "                last = False\n",
    "    if last:\n",
    "        while counter < len(bijectors_list):\n",
    "            points = bijectors_list[counter].forward(points)\n",
    "            counter += 1\n",
    "        PlotStep(points, save=save, name=name+str(len(bijectors_list)))"
   ]
  },
  {
   "cell_type": "code",
   "execution_count": null,
   "id": "8bedf75a",
   "metadata": {
    "ExecuteTime": {
     "end_time": "2022-01-28T14:22:11.652627Z",
     "start_time": "2022-01-28T14:22:10.836204Z"
    }
   },
   "outputs": [],
   "source": [
    "FlowSteps(base_dist, list_of_bijectors, 8000)"
   ]
  },
  {
   "cell_type": "markdown",
   "id": "41047666",
   "metadata": {},
   "source": [
    "### Darstellung der erzeugten Dichte des Modells."
   ]
  },
  {
   "cell_type": "code",
   "execution_count": null,
   "id": "23e513bd",
   "metadata": {
    "ExecuteTime": {
     "end_time": "2022-01-28T14:22:14.402623Z",
     "start_time": "2022-01-28T14:22:11.654737Z"
    }
   },
   "outputs": [],
   "source": [
    "plot_heatmap_2d(MAF, -13.0, 17.0, -13.0, 17.0, mesh_count=1000)"
   ]
  },
  {
   "cell_type": "markdown",
   "id": "da448193",
   "metadata": {},
   "source": [
    "### Durchschnittlich benötigte Zeit zum Generieren einer Stichprobe."
   ]
  },
  {
   "cell_type": "code",
   "execution_count": null,
   "id": "f4f88c93",
   "metadata": {
    "ExecuteTime": {
     "end_time": "2022-01-28T14:22:19.295537Z",
     "start_time": "2022-01-28T14:22:14.404623Z"
    }
   },
   "outputs": [],
   "source": [
    "time_s = time.time()\n",
    "MAF.sample(2000000)\n",
    "av_sample_time = (time.time() -time_s)/2000000\n",
    "print(av_sample_time)"
   ]
  }
 ],
 "metadata": {
  "kernelspec": {
   "display_name": "Python 3 (ipykernel)",
   "language": "python",
   "name": "python3"
  },
  "language_info": {
   "codemirror_mode": {
    "name": "ipython",
    "version": 3
   },
   "file_extension": ".py",
   "mimetype": "text/x-python",
   "name": "python",
   "nbconvert_exporter": "python",
   "pygments_lexer": "ipython3",
   "version": "3.9.6"
  }
 },
 "nbformat": 4,
 "nbformat_minor": 5
}
